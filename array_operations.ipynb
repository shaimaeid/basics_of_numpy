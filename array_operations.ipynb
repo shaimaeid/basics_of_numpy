{
  "nbformat": 4,
  "nbformat_minor": 0,
  "metadata": {
    "colab": {
      "name": "array_operations.ipynb",
      "provenance": [],
      "authorship_tag": "ABX9TyP4AFlCE3u/zJKMx6AvXXtm",
      "include_colab_link": true
    },
    "kernelspec": {
      "name": "python3",
      "display_name": "Python 3"
    },
    "language_info": {
      "name": "python"
    }
  },
  "cells": [
    {
      "cell_type": "markdown",
      "metadata": {
        "id": "view-in-github",
        "colab_type": "text"
      },
      "source": [
        "<a href=\"https://colab.research.google.com/github/shaimaeid/basics_of_numpy/blob/main/array_operations.ipynb\" target=\"_parent\"><img src=\"https://colab.research.google.com/assets/colab-badge.svg\" alt=\"Open In Colab\"/></a>"
      ]
    },
    {
      "cell_type": "code",
      "metadata": {
        "id": "XKNPyM4eE1PG"
      },
      "source": [
        "import numpy as np"
      ],
      "execution_count": 1,
      "outputs": []
    },
    {
      "cell_type": "code",
      "metadata": {
        "id": "AElAhgDVE8E1"
      },
      "source": [
        "# Numeric python list\n",
        "a=[1,2,3]\n",
        "b=[2,4,6]"
      ],
      "execution_count": 2,
      "outputs": []
    },
    {
      "cell_type": "code",
      "metadata": {
        "colab": {
          "base_uri": "https://localhost:8080/"
        },
        "id": "YmkF9JThGp9m",
        "outputId": "ee023ac8-be87-40d5-a009-32e8b12d9a44"
      },
      "source": [
        "a*3"
      ],
      "execution_count": 3,
      "outputs": [
        {
          "output_type": "execute_result",
          "data": {
            "text/plain": [
              "[1, 2, 3, 1, 2, 3, 1, 2, 3]"
            ]
          },
          "metadata": {
            "tags": []
          },
          "execution_count": 3
        }
      ]
    },
    {
      "cell_type": "code",
      "metadata": {
        "colab": {
          "base_uri": "https://localhost:8080/"
        },
        "id": "7kRvW_OAG251",
        "outputId": "0b50769f-9c70-40d3-a61d-33b75ec98710"
      },
      "source": [
        "a+b"
      ],
      "execution_count": 4,
      "outputs": [
        {
          "output_type": "execute_result",
          "data": {
            "text/plain": [
              "[1, 2, 3, 2, 4, 6]"
            ]
          },
          "metadata": {
            "tags": []
          },
          "execution_count": 4
        }
      ]
    },
    {
      "cell_type": "code",
      "metadata": {
        "id": "6nwkajkEIXnE"
      },
      "source": [
        "A=np.array(a)\n",
        "B=np.array(b)"
      ],
      "execution_count": 5,
      "outputs": []
    },
    {
      "cell_type": "code",
      "metadata": {
        "colab": {
          "base_uri": "https://localhost:8080/"
        },
        "id": "axU0C2gHJDtr",
        "outputId": "f1414bd5-54b0-406d-e3e6-d45804b53f3a"
      },
      "source": [
        "A*=2\n",
        "A"
      ],
      "execution_count": 6,
      "outputs": [
        {
          "output_type": "execute_result",
          "data": {
            "text/plain": [
              "array([2, 4, 6])"
            ]
          },
          "metadata": {
            "tags": []
          },
          "execution_count": 6
        }
      ]
    },
    {
      "cell_type": "code",
      "metadata": {
        "colab": {
          "base_uri": "https://localhost:8080/"
        },
        "id": "SbH5d-tfJeRj",
        "outputId": "935d7f72-acfa-43cc-bd32-9b15aa560ad3"
      },
      "source": [
        "c=A+np.log(B)\n",
        "c"
      ],
      "execution_count": 7,
      "outputs": [
        {
          "output_type": "execute_result",
          "data": {
            "text/plain": [
              "array([2.69314718, 5.38629436, 7.79175947])"
            ]
          },
          "metadata": {
            "tags": []
          },
          "execution_count": 7
        }
      ]
    },
    {
      "cell_type": "code",
      "metadata": {
        "colab": {
          "base_uri": "https://localhost:8080/"
        },
        "id": "DRYCWYjkKu4W",
        "outputId": "e7fecaee-896f-4d60-80bb-c20c5b699aaf"
      },
      "source": [
        "A*B"
      ],
      "execution_count": 8,
      "outputs": [
        {
          "output_type": "execute_result",
          "data": {
            "text/plain": [
              "array([ 4, 16, 36])"
            ]
          },
          "metadata": {
            "tags": []
          },
          "execution_count": 8
        }
      ]
    },
    {
      "cell_type": "code",
      "metadata": {
        "colab": {
          "base_uri": "https://localhost:8080/"
        },
        "id": "8VXsbvaZLEfx",
        "outputId": "af0f894e-ebef-43dc-be40-31aa6e9bbc96"
      },
      "source": [
        "A.dot(B)"
      ],
      "execution_count": 9,
      "outputs": [
        {
          "output_type": "execute_result",
          "data": {
            "text/plain": [
              "56"
            ]
          },
          "metadata": {
            "tags": []
          },
          "execution_count": 9
        }
      ]
    },
    {
      "cell_type": "code",
      "metadata": {
        "colab": {
          "base_uri": "https://localhost:8080/"
        },
        "id": "pWm2BbLgLI8Z",
        "outputId": "e03ab00d-925a-4365-e2f8-880d73e09174"
      },
      "source": [
        "np.dot(A,B)"
      ],
      "execution_count": 10,
      "outputs": [
        {
          "output_type": "execute_result",
          "data": {
            "text/plain": [
              "56"
            ]
          },
          "metadata": {
            "tags": []
          },
          "execution_count": 10
        }
      ]
    },
    {
      "cell_type": "code",
      "metadata": {
        "colab": {
          "base_uri": "https://localhost:8080/"
        },
        "id": "jbKHFLXfMuC_",
        "outputId": "594641fb-d15a-4088-be6b-6f76ed356d14"
      },
      "source": [
        "D=np.arange(1,10).reshape((3,3))\n",
        "D"
      ],
      "execution_count": 11,
      "outputs": [
        {
          "output_type": "execute_result",
          "data": {
            "text/plain": [
              "array([[1, 2, 3],\n",
              "       [4, 5, 6],\n",
              "       [7, 8, 9]])"
            ]
          },
          "metadata": {
            "tags": []
          },
          "execution_count": 11
        }
      ]
    },
    {
      "cell_type": "code",
      "metadata": {
        "colab": {
          "base_uri": "https://localhost:8080/"
        },
        "id": "xzh8EN4ZM5yI",
        "outputId": "20216c0a-e2a0-4be3-c01f-5b28c183e941"
      },
      "source": [
        "D.sum(axis=0)"
      ],
      "execution_count": 12,
      "outputs": [
        {
          "output_type": "execute_result",
          "data": {
            "text/plain": [
              "array([12, 15, 18])"
            ]
          },
          "metadata": {
            "tags": []
          },
          "execution_count": 12
        }
      ]
    },
    {
      "cell_type": "code",
      "metadata": {
        "colab": {
          "base_uri": "https://localhost:8080/"
        },
        "id": "mkdeBByxWTxV",
        "outputId": "46059a63-98a0-433d-bb27-eb11f101e7b1"
      },
      "source": [
        "D.sum(axis=1)"
      ],
      "execution_count": 13,
      "outputs": [
        {
          "output_type": "execute_result",
          "data": {
            "text/plain": [
              "array([ 6, 15, 24])"
            ]
          },
          "metadata": {
            "tags": []
          },
          "execution_count": 13
        }
      ]
    },
    {
      "cell_type": "code",
      "metadata": {
        "colab": {
          "base_uri": "https://localhost:8080/"
        },
        "id": "269VEMHOWdlV",
        "outputId": "b61bfc41-19ae-4e73-f813-c599fa7d2e07"
      },
      "source": [
        "D.sum()"
      ],
      "execution_count": 14,
      "outputs": [
        {
          "output_type": "execute_result",
          "data": {
            "text/plain": [
              "45"
            ]
          },
          "metadata": {
            "tags": []
          },
          "execution_count": 14
        }
      ]
    },
    {
      "cell_type": "markdown",
      "metadata": {
        "id": "i1bjAHTttz14"
      },
      "source": [
        "# Array Selecting and Slicing"
      ]
    },
    {
      "cell_type": "code",
      "metadata": {
        "colab": {
          "base_uri": "https://localhost:8080/"
        },
        "id": "_IGo6CYitzRZ",
        "outputId": "0edbbecb-d33a-4769-e8b7-af453fd9dcb5"
      },
      "source": [
        "x=np.arange(16)\n",
        "print(x)"
      ],
      "execution_count": 27,
      "outputs": [
        {
          "output_type": "stream",
          "text": [
            "[ 0  1  2  3  4  5  6  7  8  9 10 11 12 13 14 15]\n"
          ],
          "name": "stdout"
        }
      ]
    },
    {
      "cell_type": "code",
      "metadata": {
        "colab": {
          "base_uri": "https://localhost:8080/"
        },
        "id": "9yKDKbEAzAwi",
        "outputId": "8411099f-ddcf-47ad-d906-5eafe664f2bb"
      },
      "source": [
        "# Explor accessing array elements\n",
        "print(x[8])"
      ],
      "execution_count": 30,
      "outputs": [
        {
          "output_type": "stream",
          "text": [
            "8\n"
          ],
          "name": "stdout"
        }
      ]
    },
    {
      "cell_type": "code",
      "metadata": {
        "colab": {
          "base_uri": "https://localhost:8080/"
        },
        "id": "X8UUbza0zzin",
        "outputId": "36975365-1a3a-4bd6-9ac8-e87782284166"
      },
      "source": [
        "# Explor slicing array elements\n",
        "print(x[-5:])"
      ],
      "execution_count": 34,
      "outputs": [
        {
          "output_type": "stream",
          "text": [
            "[11 12 13 14 15]\n"
          ],
          "name": "stdout"
        }
      ]
    },
    {
      "cell_type": "code",
      "metadata": {
        "colab": {
          "base_uri": "https://localhost:8080/"
        },
        "id": "GFMr0JNC5re2",
        "outputId": "dd819b55-9706-45ef-d53a-a544538b1bfb"
      },
      "source": [
        "print(x[[2,4,6]])"
      ],
      "execution_count": 35,
      "outputs": [
        {
          "output_type": "stream",
          "text": [
            "[2 4 6]\n"
          ],
          "name": "stdout"
        }
      ]
    },
    {
      "cell_type": "code",
      "metadata": {
        "colab": {
          "base_uri": "https://localhost:8080/"
        },
        "id": "sF_F3F1XuZXi",
        "outputId": "dd5ae2cd-bd91-4664-d0d2-eeaa79e6beb4"
      },
      "source": [
        "y=np.arange(1,13).reshape((3,4))\n",
        "print(y)"
      ],
      "execution_count": 55,
      "outputs": [
        {
          "output_type": "stream",
          "text": [
            "[[ 1  2  3  4]\n",
            " [ 5  6  7  8]\n",
            " [ 9 10 11 12]]\n"
          ],
          "name": "stdout"
        }
      ]
    },
    {
      "cell_type": "code",
      "metadata": {
        "colab": {
          "base_uri": "https://localhost:8080/"
        },
        "id": "hv5t4RYSzMWI",
        "outputId": "b4bef1b5-778f-4761-dcbe-ff6af5d871fb"
      },
      "source": [
        "# Explor accessing 2D array elements\n",
        "print(y[1,2:])\n",
        "z=y[1,2:].copy()\n",
        "print(z)\n",
        "y[1,2]=70\n",
        "print(y)\n",
        "print(z)\n"
      ],
      "execution_count": 57,
      "outputs": [
        {
          "output_type": "stream",
          "text": [
            "[7 8]\n",
            "[7 8]\n",
            "[[ 1  2  3  4]\n",
            " [ 5  6 70  8]\n",
            " [ 9 10 11 12]]\n",
            "[7 8]\n"
          ],
          "name": "stdout"
        }
      ]
    }
  ]
}